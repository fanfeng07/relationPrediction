{
 "metadata": {
  "language_info": {
   "codemirror_mode": {
    "name": "ipython",
    "version": 3
   },
   "file_extension": ".py",
   "mimetype": "text/x-python",
   "name": "python",
   "nbconvert_exporter": "python",
   "pygments_lexer": "ipython3",
   "version": "3.8.10"
  },
  "orig_nbformat": 2,
  "kernelspec": {
   "name": "python3810jvsc74a57bd0588c1f70b859f38a452d55dc49e2fb8f9a5c2f8a3f02fc7365667c8d4a5e32b4",
   "display_name": "Python 3.8.10 64-bit ('kg': conda)"
  }
 },
 "nbformat": 4,
 "nbformat_minor": 2,
 "cells": [
  {
   "cell_type": "code",
   "execution_count": 1,
   "metadata": {},
   "outputs": [],
   "source": [
    "import torch\n",
    "import numpy as np"
   ]
  },
  {
   "cell_type": "code",
   "execution_count": 2,
   "metadata": {},
   "outputs": [],
   "source": [
    "fn = './checkpoints/fb/out/trained_1758.pth'\n",
    "model = torch.load(fn)"
   ]
  },
  {
   "cell_type": "code",
   "execution_count": 18,
   "metadata": {},
   "outputs": [],
   "source": [
    "# model.keys()\n",
    "tensor_rel = model['final_relation_embeddings']"
   ]
  },
  {
   "cell_type": "code",
   "execution_count": 21,
   "metadata": {},
   "outputs": [],
   "source": [
    "# np.savetxt('my_file.txt', torch.Tensor([3,4,5,6]).numpy())\n",
    "torch.save(tensor_rel, 'relation2vec.pt')\n",
    "# torch.load('file.pt')"
   ]
  },
  {
   "cell_type": "code",
   "execution_count": 20,
   "metadata": {},
   "outputs": [
    {
     "output_type": "execute_result",
     "data": {
      "text/plain": [
       "tensor([[ 0.0170, -0.1114,  0.0976,  ..., -0.0747, -0.1015,  0.1968],\n",
       "        [-0.0563,  0.0960,  0.1135,  ..., -0.0236,  0.0183, -0.1116],\n",
       "        [ 0.0532, -0.0657,  0.0580,  ..., -0.0702, -0.2806, -0.0271],\n",
       "        ...,\n",
       "        [-0.0603,  0.0254, -0.0477,  ...,  0.0687,  0.1037,  0.0093],\n",
       "        [-0.0069,  0.0451, -0.0145,  ...,  0.0335,  0.0343, -0.0093],\n",
       "        [ 0.0250, -0.0537,  0.1319,  ..., -0.0749, -0.0958,  0.0996]])"
      ]
     },
     "metadata": {},
     "execution_count": 20
    }
   ],
   "source": [
    "t = torch.load('file.pt')\n",
    "t"
   ]
  },
  {
   "cell_type": "code",
   "execution_count": 22,
   "metadata": {},
   "outputs": [],
   "source": [
    "tensor_ent = model['final_entity_embeddings']\n",
    "torch.save(tensor_ent, 'entity2vec.pt')\n"
   ]
  },
  {
   "cell_type": "code",
   "execution_count": null,
   "metadata": {},
   "outputs": [],
   "source": []
  }
 ]
}